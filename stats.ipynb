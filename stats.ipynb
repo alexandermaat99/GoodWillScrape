{
 "cells": [
  {
   "cell_type": "code",
   "execution_count": 11,
   "metadata": {},
   "outputs": [],
   "source": [
    "import pandas as pd \n",
    "import numpy as np\n",
    "\n",
    "df = pd.read_csv('mamiya_05-29-2024_100.csv')\n",
    "df\n",
    "searches = df['search'].unique()\n",
    "\n"
   ]
  },
  {
   "cell_type": "code",
   "execution_count": 12,
   "metadata": {},
   "outputs": [
    {
     "data": {
      "text/html": [
       "<div>\n",
       "<style scoped>\n",
       "    .dataframe tbody tr th:only-of-type {\n",
       "        vertical-align: middle;\n",
       "    }\n",
       "\n",
       "    .dataframe tbody tr th {\n",
       "        vertical-align: top;\n",
       "    }\n",
       "\n",
       "    .dataframe thead th {\n",
       "        text-align: right;\n",
       "    }\n",
       "</style>\n",
       "<table border=\"1\" class=\"dataframe\">\n",
       "  <thead>\n",
       "    <tr style=\"text-align: right;\">\n",
       "      <th></th>\n",
       "      <th>search</th>\n",
       "      <th>Title</th>\n",
       "      <th>Price</th>\n",
       "      <th>Sale</th>\n",
       "      <th>URL</th>\n",
       "    </tr>\n",
       "  </thead>\n",
       "  <tbody>\n",
       "    <tr>\n",
       "      <th>0</th>\n",
       "      <td>camera</td>\n",
       "      <td>Polaroid Digital Instant Camera Model POP In Case</td>\n",
       "      <td>96.00</td>\n",
       "      <td>Discount:\\n(20% OFF)</td>\n",
       "      <td>https://www.goodwillfinds.com//electronics/cam...</td>\n",
       "    </tr>\n",
       "    <tr>\n",
       "      <th>1</th>\n",
       "      <td>camera</td>\n",
       "      <td>Vintage Camera Spectra AF Film Camera</td>\n",
       "      <td>16.00</td>\n",
       "      <td>Discount:\\n(20% OFF)</td>\n",
       "      <td>https://www.goodwillfinds.com//electronics/cam...</td>\n",
       "    </tr>\n",
       "    <tr>\n",
       "      <th>2</th>\n",
       "      <td>camera</td>\n",
       "      <td>Minolta Camera</td>\n",
       "      <td>69.99</td>\n",
       "      <td>NaN</td>\n",
       "      <td>https://www.goodwillfinds.com//electronics/cam...</td>\n",
       "    </tr>\n",
       "    <tr>\n",
       "      <th>3</th>\n",
       "      <td>camera</td>\n",
       "      <td>Lot of 3 Assorted 35mm Underwater Cameras &amp; Ca...</td>\n",
       "      <td>19.99</td>\n",
       "      <td>NaN</td>\n",
       "      <td>https://www.goodwillfinds.com//electronics/cam...</td>\n",
       "    </tr>\n",
       "    <tr>\n",
       "      <th>4</th>\n",
       "      <td>camera</td>\n",
       "      <td>Phenix DC303K Camera Film Camera For Parts/Repair</td>\n",
       "      <td>33.99</td>\n",
       "      <td>NaN</td>\n",
       "      <td>https://www.goodwillfinds.com//electronics/cam...</td>\n",
       "    </tr>\n",
       "    <tr>\n",
       "      <th>...</th>\n",
       "      <td>...</td>\n",
       "      <td>...</td>\n",
       "      <td>...</td>\n",
       "      <td>...</td>\n",
       "      <td>...</td>\n",
       "    </tr>\n",
       "    <tr>\n",
       "      <th>303</th>\n",
       "      <td>mamiya</td>\n",
       "      <td>Mamiya Super Deluxe 35mm Film Camera W/ 48mm L...</td>\n",
       "      <td>84.99</td>\n",
       "      <td>Discount:\\n(15% OFF)</td>\n",
       "      <td>https://www.goodwillfinds.com//electronics/cam...</td>\n",
       "    </tr>\n",
       "    <tr>\n",
       "      <th>304</th>\n",
       "      <td>mamiya</td>\n",
       "      <td>Mamiya MSX 1000 SLR 35mm Film Camera W/ 50mm Lens</td>\n",
       "      <td>42.49</td>\n",
       "      <td>Discount:\\n(15% OFF)</td>\n",
       "      <td>https://www.goodwillfinds.com//electronics/cam...</td>\n",
       "    </tr>\n",
       "    <tr>\n",
       "      <th>305</th>\n",
       "      <td>mamiya</td>\n",
       "      <td>Auto Mamiya Sekor Zoom ES 90=230mm f14.5 SLR C...</td>\n",
       "      <td>84.99</td>\n",
       "      <td>Discount:\\n(15% OFF)</td>\n",
       "      <td>https://www.goodwillfinds.com//electronics/cam...</td>\n",
       "    </tr>\n",
       "    <tr>\n",
       "      <th>306</th>\n",
       "      <td>mamiya</td>\n",
       "      <td>Vintage Mamiya/Sekor 500 TL 35mm Film Camera w...</td>\n",
       "      <td>38.24</td>\n",
       "      <td>Discount:\\n(4% OFF)</td>\n",
       "      <td>https://www.goodwillfinds.com//electronics/cam...</td>\n",
       "    </tr>\n",
       "    <tr>\n",
       "      <th>307</th>\n",
       "      <td>mamiya</td>\n",
       "      <td>Tour Edge Bazooka HT Max Draw 12° Driver UST M...</td>\n",
       "      <td>39.99</td>\n",
       "      <td>NaN</td>\n",
       "      <td>https://www.goodwillfinds.com//sports-equipmen...</td>\n",
       "    </tr>\n",
       "  </tbody>\n",
       "</table>\n",
       "<p>308 rows × 5 columns</p>\n",
       "</div>"
      ],
      "text/plain": [
       "     search                                              Title  Price  \\\n",
       "0    camera  Polaroid Digital Instant Camera Model POP In Case  96.00   \n",
       "1    camera              Vintage Camera Spectra AF Film Camera  16.00   \n",
       "2    camera                                     Minolta Camera  69.99   \n",
       "3    camera  Lot of 3 Assorted 35mm Underwater Cameras & Ca...  19.99   \n",
       "4    camera  Phenix DC303K Camera Film Camera For Parts/Repair  33.99   \n",
       "..      ...                                                ...    ...   \n",
       "303  mamiya  Mamiya Super Deluxe 35mm Film Camera W/ 48mm L...  84.99   \n",
       "304  mamiya  Mamiya MSX 1000 SLR 35mm Film Camera W/ 50mm Lens  42.49   \n",
       "305  mamiya  Auto Mamiya Sekor Zoom ES 90=230mm f14.5 SLR C...  84.99   \n",
       "306  mamiya  Vintage Mamiya/Sekor 500 TL 35mm Film Camera w...  38.24   \n",
       "307  mamiya  Tour Edge Bazooka HT Max Draw 12° Driver UST M...  39.99   \n",
       "\n",
       "                     Sale                                                URL  \n",
       "0    Discount:\\n(20% OFF)  https://www.goodwillfinds.com//electronics/cam...  \n",
       "1    Discount:\\n(20% OFF)  https://www.goodwillfinds.com//electronics/cam...  \n",
       "2                     NaN  https://www.goodwillfinds.com//electronics/cam...  \n",
       "3                     NaN  https://www.goodwillfinds.com//electronics/cam...  \n",
       "4                     NaN  https://www.goodwillfinds.com//electronics/cam...  \n",
       "..                    ...                                                ...  \n",
       "303  Discount:\\n(15% OFF)  https://www.goodwillfinds.com//electronics/cam...  \n",
       "304  Discount:\\n(15% OFF)  https://www.goodwillfinds.com//electronics/cam...  \n",
       "305  Discount:\\n(15% OFF)  https://www.goodwillfinds.com//electronics/cam...  \n",
       "306   Discount:\\n(4% OFF)  https://www.goodwillfinds.com//electronics/cam...  \n",
       "307                   NaN  https://www.goodwillfinds.com//sports-equipmen...  \n",
       "\n",
       "[308 rows x 5 columns]"
      ]
     },
     "execution_count": 12,
     "metadata": {},
     "output_type": "execute_result"
    }
   ],
   "source": [
    "df"
   ]
  },
  {
   "cell_type": "code",
   "execution_count": 13,
   "metadata": {},
   "outputs": [
    {
     "name": "stdout",
     "output_type": "stream",
     "text": [
      "camera 54.179399999999994\n",
      "nikon 83.1884\n",
      "canon 77.99869999999999\n",
      "mamiya 48.33624999999999\n"
     ]
    }
   ],
   "source": [
    "for i in searches:\n",
    "    where = df['search'] == i\n",
    "    avg_price = df[where]['Price'].mean()\n",
    "    print(i, avg_price)\n"
   ]
  },
  {
   "cell_type": "code",
   "execution_count": 14,
   "metadata": {},
   "outputs": [
    {
     "name": "stdout",
     "output_type": "stream",
     "text": [
      "[]\n"
     ]
    }
   ],
   "source": [
    "#search for keywords in title\n",
    "keywords = \"mamiya 7ii\"\n",
    "\n",
    "keyword_df = df['Title'].str.contains(keywords, case=False)\n",
    "df[keyword_df]\n",
    "\n",
    "print (df[keyword_df]['URL'].values)\n"
   ]
  },
  {
   "cell_type": "code",
   "execution_count": 15,
   "metadata": {},
   "outputs": [
    {
     "name": "stdout",
     "output_type": "stream",
     "text": [
      "nan\n"
     ]
    }
   ],
   "source": [
    "mean_keyword_df = df[keyword_df]['Price'].mean()\n",
    "print(mean_keyword_df)"
   ]
  }
 ],
 "metadata": {
  "kernelspec": {
   "display_name": "Python 3",
   "language": "python",
   "name": "python3"
  },
  "language_info": {
   "codemirror_mode": {
    "name": "ipython",
    "version": 3
   },
   "file_extension": ".py",
   "mimetype": "text/x-python",
   "name": "python",
   "nbconvert_exporter": "python",
   "pygments_lexer": "ipython3",
   "version": "3.11.8"
  }
 },
 "nbformat": 4,
 "nbformat_minor": 2
}
